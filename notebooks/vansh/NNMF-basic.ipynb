{
 "cells": [
  {
   "cell_type": "code",
   "execution_count": 1,
   "metadata": {},
   "outputs": [],
   "source": [
    "import torch\n",
    "import torch.nn as nn\n",
    "import torch.nn.functional as F\n",
    "\n",
    "import numpy as np"
   ]
  },
  {
   "cell_type": "code",
   "execution_count": 2,
   "metadata": {},
   "outputs": [],
   "source": [
    "class FCMF(nn.Module):\n",
    "    '''\n",
    "    Base class for Fully-Connected Matrix Factorization networks\n",
    "    '''\n",
    "    \n",
    "    def __init__ (self, N, M, D, D_, K, layers):\n",
    "        '''\n",
    "        variable definitions taken from paper: https://arxiv.org/pdf/1511.06443.pdf\n",
    "        \n",
    "        @param N:  Number of users\n",
    "        @param M:  Number of items\n",
    "        @param D:  size of latent-feature vectors\n",
    "        @param D_: num rows in latent-features matrices\n",
    "        @param K:  num cols in latent-feature matrices\n",
    "        \n",
    "        @param layers: list of hidden layer sizes; does not include input or output\n",
    "        '''\n",
    "        \n",
    "        assert (min(N,M,D,D_,K) > 0), \"Params must be nonzero and positive\"\n",
    "        assert (len(layers) > 0),     \"Must have nonzero hidden layers\"\n",
    "        \n",
    "        ########################################################################\n",
    "        \n",
    "        super(FCMF, self).__init__()\n",
    "        \n",
    "        self.N, self.M, self.D, self.D_, self.K = N, M, D, D_, K\n",
    "        \n",
    "        self.userLatentVectors = torch.rand(N,D, requires_grad=True)\n",
    "        self.itemLatentVectors = torch.rand(M,D, requires_grad=True)\n",
    "        \n",
    "        self.userLatentMatrices = torch.rand(N,D_,K, requires_grad=True)\n",
    "        self.itemLatentMatrices = torch.rand(M,D_,K, requires_grad=True)\n",
    "        \n",
    "        linear_inputs = [2*D + D_] + layers\n",
    "        linear_outputs = layers + [1]\n",
    "        \n",
    "        self.layers = nn.ModuleList([nn.Linear(i,o) for (i,o) in zip(linear_inputs, linear_outputs)])\n",
    "        \n",
    "    def forward(self, x):\n",
    "        '''\n",
    "        @param x: let this be a tensor of size (X, 2): (user index, item index)\n",
    "        \n",
    "        WARNING: \n",
    "            - forward currently does not account for user/items outside of training data\n",
    "            - mitigations include returning smart averages    \n",
    "        '''        \n",
    "        userIndices, itemIndices = x[:,0].long(), x[:,1].long()\n",
    "                \n",
    "        userLatMats = self.userLatentMatrices[userIndices]\n",
    "        itemLatMats = self.itemLatentMatrices[itemIndices]\n",
    "        latentDotProducts = torch.sum(userLatMats * itemLatMats, dim=-1)        \n",
    "        \n",
    "        x = torch.hstack([\n",
    "            self.userLatentVectors[userIndices],\n",
    "            self.itemLatentVectors[itemIndices],\n",
    "            latentDotProducts\n",
    "        ])\n",
    "        \n",
    "        for l in self.layers[:-1]:\n",
    "            x = F.relu(l(x))\n",
    "        \n",
    "        # TODO: should last layer go through a sigmoid?\n",
    "        return self.layers[-1](x)\n",
    "        "
   ]
  },
  {
   "cell_type": "code",
   "execution_count": 3,
   "metadata": {},
   "outputs": [],
   "source": [
    "def getBatches(mat, usersPerBatch=100):\n",
    "    '''\n",
    "    batchSize = min(N - start, usersPerBatch) * M\n",
    "    '''\n",
    "    N, M = mat.shape\n",
    "    \n",
    "    start = 0\n",
    "    while start < N:\n",
    "        batchSize = min(N - start, usersPerBatch) * M\n",
    "                \n",
    "        batch_x = torch.empty(batchSize, 2)\n",
    "        batch_y = torch.empty(batchSize, 1)\n",
    "        \n",
    "        for userId, ratings in enumerate(mat[start: start+N]):\n",
    "            for movieId, stars in enumerate(ratings):\n",
    "                \n",
    "                curId = userId * M + movieId\n",
    "                                \n",
    "                batch_x[curId][0] = userId\n",
    "                batch_x[curId][1] = movieId\n",
    "                batch_y[curId][0] = stars\n",
    "                    \n",
    "        start += N\n",
    "        \n",
    "        yield (batch_x, batch_y)\n",
    "        \n",
    "    \n",
    "\n",
    "def trainEpoch(opt, criterion, model, mat):\n",
    "    opt.zero_grad()\n",
    "    loss = 0\n",
    "    for batch_x, batch_y in getBatches(mat):\n",
    "        pred_y = model(batch_x)\n",
    "        loss += criterion(batch_y, pred_y)\n",
    "    loss.backward()\n",
    "    optimizer.step()"
   ]
  },
  {
   "cell_type": "code",
   "execution_count": 4,
   "metadata": {},
   "outputs": [
    {
     "data": {
      "text/plain": [
       "array([[2, 5, 2, 3, 2],\n",
       "       [4, 0, 3, 2, 0],\n",
       "       [1, 1, 3, 1, 1],\n",
       "       [1, 2, 5, 5, 4],\n",
       "       [2, 0, 5, 5, 0]])"
      ]
     },
     "execution_count": 4,
     "metadata": {},
     "output_type": "execute_result"
    }
   ],
   "source": [
    "numUsers = 5\n",
    "numItems = 5\n",
    "\n",
    "testMatrix = np.random.randint(6, size=(numUsers, numItems))\n",
    "testMatrix"
   ]
  },
  {
   "cell_type": "code",
   "execution_count": 5,
   "metadata": {},
   "outputs": [],
   "source": [
    "fc3 = FCMF(numUsers, numItems ,2,2,1,[5])"
   ]
  },
  {
   "cell_type": "code",
   "execution_count": 6,
   "metadata": {},
   "outputs": [],
   "source": [
    "import torch.optim as optim\n",
    "\n",
    "# Paper uses RMSE as objective and RMSProp optimizer\n",
    "criterion = nn.MSELoss()\n",
    "optimizer = optim.RMSprop(fc3.parameters(), lr=0.01)"
   ]
  },
  {
   "cell_type": "code",
   "execution_count": 7,
   "metadata": {},
   "outputs": [
    {
     "name": "stderr",
     "output_type": "stream",
     "text": [
      "/home/vansh/programs/anaconda3/lib/python3.8/site-packages/torch/autograd/__init__.py:130: UserWarning: CUDA initialization: Found no NVIDIA driver on your system. Please check that you have an NVIDIA GPU and installed a driver from http://www.nvidia.com/Download/index.aspx (Triggered internally at  /opt/conda/conda-bld/pytorch_1603729062494/work/c10/cuda/CUDAFunctions.cpp:100.)\n",
      "  Variable._execution_engine.run_backward(\n"
     ]
    }
   ],
   "source": [
    "trainEpoch(optimizer, criterion, fc3, testMatrix)"
   ]
  },
  {
   "cell_type": "code",
   "execution_count": null,
   "metadata": {},
   "outputs": [],
   "source": []
  },
  {
   "cell_type": "code",
   "execution_count": null,
   "metadata": {},
   "outputs": [],
   "source": []
  }
 ],
 "metadata": {
  "kernelspec": {
   "display_name": "Python 3",
   "language": "python",
   "name": "python3"
  },
  "language_info": {
   "codemirror_mode": {
    "name": "ipython",
    "version": 3
   },
   "file_extension": ".py",
   "mimetype": "text/x-python",
   "name": "python",
   "nbconvert_exporter": "python",
   "pygments_lexer": "ipython3",
   "version": "3.8.3"
  }
 },
 "nbformat": 4,
 "nbformat_minor": 4
}
