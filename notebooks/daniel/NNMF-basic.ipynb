{
 "cells": [
  {
   "cell_type": "code",
   "execution_count": 1,
   "metadata": {},
   "outputs": [],
   "source": [
    "import torch\n",
    "import torch.nn as nn\n",
    "import torch.nn.functional as F\n",
    "import torch.nn.parameter as P\n",
    "import torch.optim as optim\n",
    "from sklearn.model_selection import train_test_split\n",
    "import numpy as np\n",
    "import random"
   ]
  },
  {
   "cell_type": "code",
   "execution_count": 2,
   "metadata": {},
   "outputs": [
    {
     "name": "stdout",
     "output_type": "stream",
     "text": [
      "Using device:  cpu\n"
     ]
    }
   ],
   "source": [
    "use_gpu = False\n",
    "if use_gpu:\n",
    "    device = 'cuda'\n",
    "else:\n",
    "    device = 'cpu'\n",
    "print('Using device: ', device)"
   ]
  },
  {
   "cell_type": "code",
   "execution_count": 3,
   "metadata": {},
   "outputs": [],
   "source": [
    "class Dataset(torch.utils.data.Dataset):\n",
    "    'Characterizes a dataset for PyTorch'\n",
    "    def __init__(self, data):\n",
    "        'Initialization'\n",
    "        self.data = data\n",
    "\n",
    "    def __len__(self):\n",
    "        'Denotes the total number of samples'\n",
    "        return len(self.data)\n",
    "\n",
    "    def __getitem__(self, index):\n",
    "        'Generates one sample of data'\n",
    "        # Select sample\n",
    "        data_item = self.data[index]\n",
    "\n",
    "        # Load data and get label\n",
    "        X = data_item[:2]\n",
    "        X = torch.tensor(X).to(device)\n",
    "        y = data_item[2]\n",
    "        y = torch.tensor(y).to(device).float()\n",
    "\n",
    "        return X, y"
   ]
  },
  {
   "cell_type": "code",
   "execution_count": 4,
   "metadata": {},
   "outputs": [],
   "source": [
    "userIds = set()\n",
    "movieIds = set()\n",
    "triplets = []\n",
    "\n",
    "# Parameters\n",
    "params = {'batch_size': 64,\n",
    "          'shuffle': True,\n",
    "          'num_workers': 6,\n",
    "         'drop_last': True}\n",
    "\n",
    "file1 = open('../../ml-100k/u.data', 'r')\n",
    "for line in file1.readlines():\n",
    "    uid, mid, rating, timestamp = line.split('\t')\n",
    "    userIds.add(int(uid))\n",
    "    movieIds.add(int(mid))\n",
    "    triplets.append([uid,mid,rating])\n",
    "    \n",
    "random.shuffle(triplets)\n",
    "\n",
    "triplets = np.array(triplets, dtype='int')\n",
    "\n",
    "train_val_split = int(len(triplets)*0.98)\n",
    "train_triplets = triplets[: train_val_split]\n",
    "val_triplets = triplets[train_val_split:]\n",
    "\n",
    "\n",
    "training_set = Dataset(train_triplets)\n",
    "val_set = Dataset(val_triplets)\n",
    "\n",
    "train_gen = torch.utils.data.DataLoader(training_set, **params)\n",
    "val_gen = torch.utils.data.DataLoader(val_set, **params)\n",
    "\n",
    "numUsers = max(userIds)\n",
    "numItems = max(movieIds)"
   ]
  },
  {
   "cell_type": "code",
   "execution_count": 5,
   "metadata": {},
   "outputs": [
    {
     "name": "stdout",
     "output_type": "stream",
     "text": [
      "31\n",
      "2000\n"
     ]
    }
   ],
   "source": [
    "print(len(val_gen))\n",
    "print(len(val_set))"
   ]
  },
  {
   "cell_type": "code",
   "execution_count": 6,
   "metadata": {},
   "outputs": [],
   "source": [
    "def weights_init_uniform(m):\n",
    "    classname = m.__class__.__name__\n",
    "    \n",
    "    # for every Linear layer in a model..\n",
    "    if classname.find('Linear') != -1:\n",
    "        weight_range = 4.0 * pow(6, 0.5) / pow(m.in_features + m.out_features, 0.5)\n",
    "        # apply a paper distribution to the weights and a bias=0\n",
    "        m.weight.data.uniform_(-1 * weight_range, weight_range)\n",
    "        m.bias.data.fill_(0)\n"
   ]
  },
  {
   "cell_type": "code",
   "execution_count": 7,
   "metadata": {},
   "outputs": [],
   "source": [
    "class FCMF(nn.Module):\n",
    "    '''\n",
    "    Base class for Fully-Connected Matrix Factorization networks\n",
    "    '''\n",
    "\n",
    "    def __init__ (self, N, M, D, D_, K, layers):\n",
    "        '''\n",
    "        variable definitions taken from paper: https://arxiv.org/pdf/1511.06443.pdf\n",
    "        \n",
    "        @param N:  Number of users\n",
    "        @param M:  Number of items\n",
    "        @param D:  size of latent-feature vectors\n",
    "        @param D_: num rows in latent-features matrices\n",
    "        @param K:  num cols in latent-feature matrices\n",
    "        \n",
    "        @param layers: list of hidden layer sizes; does not include input or output\n",
    "        '''\n",
    "        \n",
    "        assert (min(N,M,D,D_,K) > 0), \"Params must be nonzero and positive\"\n",
    "        assert (len(layers) > 0),     \"Must have nonzero hidden layers\"\n",
    "        \n",
    "        ########################################################################\n",
    "        \n",
    "        super(FCMF, self).__init__()\n",
    "\n",
    "        \n",
    "        self.N, self.M, self.D, self.D_, self.K = N, M, D, D_, K\n",
    "\n",
    "        \n",
    "        self.userLatentVectors = P.Parameter(torch.rand(N,D, requires_grad=True))\n",
    "        self.itemLatentVectors = P.Parameter(torch.rand(M,D, requires_grad=True))\n",
    "\n",
    "        \n",
    "        self.userLatentMatrices = P.Parameter(torch.rand(N,D_,K, requires_grad=True))\n",
    "        self.itemLatentMatrices = P.Parameter(torch.rand(M,D_,K, requires_grad=True))\n",
    "\n",
    "        \n",
    "        linear_inputs = [2*D + D_] + layers\n",
    "        linear_outputs = layers + [1]\n",
    "\n",
    "        self.layers = nn.ModuleList([nn.Linear(i,o) for (i,o) in zip(linear_inputs, linear_outputs)])\n",
    "        #Initialize weights as specified in paper\n",
    "        self.apply(weights_init_uniform)\n",
    "        \n",
    "\n",
    "        \n",
    "    def forward(self, x):\n",
    "        '''\n",
    "        @param x: let this be a tensor of size (X, 2): (user index, item index)\n",
    "        \n",
    "        WARNING: \n",
    "            - forward currently does not account for user/items outside of training data\n",
    "            - mitigations include returning smart averages    \n",
    "        '''   \n",
    "        #Get 100 user and item indices\n",
    "        userIndices, itemIndices = x[:,0].long(), x[:,1].long()\n",
    "        \n",
    "        \n",
    "        #Select the 10 dimensional rows for each user and item        \n",
    "        userLatMats = self.userLatentMatrices[userIndices]\n",
    "        itemLatMats = self.itemLatentMatrices[itemIndices]\n",
    "\n",
    "        #Take the product of these and sum it to get the feature U'n,1 * V'm,1 + ... + U'n,D * V'm,D\n",
    "        latentDotProducts = torch.sum(userLatMats * itemLatMats, dim=-1)\n",
    "        \n",
    "        x = torch.hstack([\n",
    "            #D\n",
    "            self.userLatentVectors[userIndices],\n",
    "            #D\n",
    "            self.itemLatentVectors[itemIndices],\n",
    "            #D'\n",
    "            latentDotProducts\n",
    "        ])\n",
    "        \n",
    "\n",
    "        \n",
    "        for l in self.layers[:-1]:\n",
    "            x = torch.sigmoid(l(x))\n",
    "        \n",
    "        # TODO: should last layer go through a sigmoid? NO!\n",
    "        out = self.layers[-1](x)\n",
    "        return out\n",
    "    \n",
    "    def gradAll(self):\n",
    "        self._setGrads(True, True, True, True, True)\n",
    "    \n",
    "    def gradNetwork(self):\n",
    "        self._setGrads(False, False, False, False, True)\n",
    "\n",
    "    def gradLatent(self):\n",
    "        self._setGrads(True, True, True, True, False)\n",
    "\n",
    "    def _setGrads(self, userVec, itemVec, userMat, itemMat, net):\n",
    "        self.userLatentVectors.requires_grad = userVec\n",
    "        self.itemLatentVectors.requires_grad = itemVec\n",
    "        \n",
    "        self.userLatentMatrices.requires_grad = userMat\n",
    "        self.itemLatentMatrices.requires_grad = itemMat\n",
    "        \n",
    "        self.layers.requires_grad = net\n",
    "        \n",
    "        \n",
    "        \n",
    "\n",
    "        "
   ]
  },
  {
   "cell_type": "code",
   "execution_count": 8,
   "metadata": {},
   "outputs": [],
   "source": [
    "def getBatches(X, Y, usersPerBatch=100):\n",
    "    '''\n",
    "    batchSize = min(N - start, usersPerBatch) * M\n",
    "    '''\n",
    "    N = X.shape[0]\n",
    "    \n",
    "    start = 0\n",
    "    while start < N:\n",
    "\n",
    "        if start+usersPerBatch + 1 < N:\n",
    "            batch_x = torch.tensor(X[start:start+usersPerBatch]).to(device)\n",
    "            batch_y = torch.tensor(Y[start:start+usersPerBatch]).to(device).float()\n",
    "            start += usersPerBatch\n",
    "            yield (batch_x, batch_y)\n",
    "\n",
    "        else:\n",
    "            batch_x = torch.tensor(X[start:]).to(device)\n",
    "            batch_y = torch.tensor(Y[start:]).to(device).float()\n",
    "            start += usersPerBatch\n",
    "            yield (batch_x, batch_y)\n",
    "            \n",
    "def trainEpoch(opt, criterion, model):\n",
    "    model.train()\n",
    "    opt.zero_grad()\n",
    "    totalLoss = 0\n",
    "\n",
    "    for batch_x, batch_y in train_gen:\n",
    "        optimizer.zero_grad()\n",
    "        pred_y = model(batch_x)\n",
    "        #RMSE in order to compare to paper\n",
    "        loss = pow(criterion(batch_y, pred_y.flatten()), 0.5)\n",
    "        #print(loss.type())\n",
    "        #print(loss)\n",
    "        totalLoss += loss\n",
    "        loss.backward()\n",
    "        optimizer.step()\n",
    "\n",
    "    return totalLoss/len(train_gen)\n",
    "\n",
    "def evaluate(criterion, model):\n",
    "    model.eval()\n",
    "    loss = 0\n",
    "    accuracy = 0\n",
    "    for batch_x, batch_y in val_gen:\n",
    "        pred_y = model(batch_x)\n",
    "        loss += pow(criterion(batch_y, pred_y.squeeze()), 0.5)\n",
    "        matching = (torch.round(pred_y.detach()).flatten() == batch_y.flatten()).type(torch.uint8).sum()\n",
    "        matching = matching\n",
    "        #print(matching)\n",
    "        accuracy += matching\n",
    "    return loss/len(val_gen), accuracy/len(val_set)\n"
   ]
  },
  {
   "cell_type": "code",
   "execution_count": 9,
   "metadata": {},
   "outputs": [
    {
     "name": "stdout",
     "output_type": "stream",
     "text": [
      "FCMF(\n",
      "  (layers): ModuleList(\n",
      "    (0): Linear(in_features=80, out_features=50, bias=True)\n",
      "    (1): Linear(in_features=50, out_features=50, bias=True)\n",
      "    (2): Linear(in_features=50, out_features=50, bias=True)\n",
      "    (3): Linear(in_features=50, out_features=1, bias=True)\n",
      "  )\n",
      ")\n"
     ]
    }
   ],
   "source": [
    "fc3 = FCMF(numUsers+1, numItems+1 ,10,60,60,[50, 50, 50]).to(device)\n",
    "# Paper uses RMSE as objective and RMSProp optimizer\n",
    "print(fc3)"
   ]
  },
  {
   "cell_type": "code",
   "execution_count": null,
   "metadata": {
    "tags": []
   },
   "outputs": [
    {
     "name": "stdout",
     "output_type": "stream",
     "text": [
      "FCMF(\n",
      "  (layers): ModuleList(\n",
      "    (0): Linear(in_features=80, out_features=50, bias=True)\n",
      "    (1): Linear(in_features=50, out_features=50, bias=True)\n",
      "    (2): Linear(in_features=50, out_features=50, bias=True)\n",
      "    (3): Linear(in_features=50, out_features=1, bias=True)\n",
      "  )\n",
      ")\n"
     ]
    },
    {
     "name": "stderr",
     "output_type": "stream",
     "text": [
      "/home/dshvarts/.local/lib/python3.7/site-packages/torch/autograd/__init__.py:132: UserWarning: CUDA initialization: The NVIDIA driver on your system is too old (found version 10010). Please update your GPU driver by downloading and installing a new version from the URL: http://www.nvidia.com/Download/index.aspx Alternatively, go to: https://pytorch.org to install a PyTorch version that has been compiled with your version of the CUDA driver. (Triggered internally at  /pytorch/c10/cuda/CUDAFunctions.cpp:100.)\n",
      "  allow_unreachable=True)  # allow_unreachable flag\n"
     ]
    }
   ],
   "source": [
    "fc3 = FCMF(numUsers+1, numItems+1 ,10,60,60,[50, 50, 50]).to(device)\n",
    "# Paper uses RMSE as objective and RMSProp optimizer\n",
    "print(fc3)\n",
    "criterion = nn.MSELoss()\n",
    "optimizer = optim.RMSprop(fc3.parameters(), lr=0.001)\n",
    "\n",
    "epochs = 0\n",
    "max_epochs = 50\n",
    "while epochs < max_epochs:\n",
    "    fc3.gradAll()\n",
    "    fc3.gradLatent()\n",
    "    loss = trainEpoch(optimizer, criterion, fc3)\n",
    "    fc3.gradNetwork()\n",
    "    loss += trainEpoch(optimizer, criterion, fc3)\n",
    "    val_loss, val_acc = evaluate(criterion, fc3)\n",
    "    print(\"Epoch {} Train Loss: {} Val Loss: {} Val Acc: {}\".format(epochs,loss, val_loss, val_acc))\n",
    "    epochs+=1\n",
    "\n",
    "\n"
   ]
  },
  {
   "cell_type": "code",
   "execution_count": null,
   "metadata": {},
   "outputs": [],
   "source": [
    "evaluate(optimizer, criterion, testX, testY)"
   ]
  },
  {
   "cell_type": "code",
   "execution_count": null,
   "metadata": {},
   "outputs": [],
   "source": [
    "print(torch.__version__)"
   ]
  },
  {
   "cell_type": "code",
   "execution_count": null,
   "metadata": {},
   "outputs": [],
   "source": []
  }
 ],
 "metadata": {
  "kernelspec": {
   "display_name": "Python 3",
   "language": "python",
   "name": "python3"
  },
  "language_info": {
   "codemirror_mode": {
    "name": "ipython",
    "version": 3
   },
   "file_extension": ".py",
   "mimetype": "text/x-python",
   "name": "python",
   "nbconvert_exporter": "python",
   "pygments_lexer": "ipython3",
   "version": "3.7.6"
  }
 },
 "nbformat": 4,
 "nbformat_minor": 4
}
